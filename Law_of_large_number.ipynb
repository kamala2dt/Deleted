{
  "nbformat": 4,
  "nbformat_minor": 0,
  "metadata": {
    "colab": {
      "provenance": [],
      "authorship_tag": "ABX9TyPouYCYzpmZ5xACVsTIBqnC",
      "include_colab_link": true
    },
    "kernelspec": {
      "name": "python3",
      "display_name": "Python 3"
    },
    "language_info": {
      "name": "python"
    }
  },
  "cells": [
    {
      "cell_type": "markdown",
      "metadata": {
        "id": "view-in-github",
        "colab_type": "text"
      },
      "source": [
        "<a href=\"https://colab.research.google.com/github/kamala2dt/Python-Project/blob/main/Law_of_large_number.ipynb\" target=\"_parent\"><img src=\"https://colab.research.google.com/assets/colab-badge.svg\" alt=\"Open In Colab\"/></a>"
      ]
    },
    {
      "cell_type": "markdown",
      "source": [
        "#Test the Law of Large Numbers for N random normally distributed numbers with mean = 0, stdev = 1:\n",
        "\n",
        "#Create a Python script that will count how many of these numbers will fall between -1 and 1  \n",
        "#and divide by the total quantity of N\n",
        "\n",
        "#You know that E(X) = 68.2%\n",
        "\n",
        "#Check that Mean(Xn) -> E(X) as you rerun your script by increasing N\n"
      ],
      "metadata": {
        "id": "iNxlK7bdTs3A"
      }
    },
    {
      "cell_type": "code",
      "source": [
        "import numpy as np\n",
        "from numpy.random import randn"
      ],
      "metadata": {
        "id": "7-KJmo9dTwz4"
      },
      "execution_count": 2,
      "outputs": []
    },
    {
      "cell_type": "code",
      "source": [
        "N = 100                                # specify sample size\n",
        "counter = 0                            # reset counter\n",
        "for i in randn(N):                     #iterate over random value\n",
        "    if (i > -1 and i < 1):             #check where iterate value falls\n",
        "        counter = counter + 1          # increase counter if condition is met\n",
        "answer = counter / N                   #calculate hit ratio\n",
        "print(answer)\n"
      ],
      "metadata": {
        "colab": {
          "base_uri": "https://localhost:8080/"
        },
        "id": "c7irJXOQT2cB",
        "outputId": "9e65bcf2-c580-4cf7-d521-3918925084e7"
      },
      "execution_count": 6,
      "outputs": [
        {
          "output_type": "stream",
          "name": "stdout",
          "text": [
            "0.76\n"
          ]
        }
      ]
    },
    {
      "cell_type": "code",
      "source": [
        "N = 1000       \n",
        "counter = 0   \n",
        "for i in randn(N):  \n",
        "    if (i > -1 and i < 1):     \n",
        "        counter = counter + 1           \n",
        "answer = counter / N                    \n",
        "print(answer)"
      ],
      "metadata": {
        "colab": {
          "base_uri": "https://localhost:8080/"
        },
        "id": "_JYyCM6PUUME",
        "outputId": "fd1d4db8-be0a-4ea1-97c9-d9c2b4e8e0c1"
      },
      "execution_count": 7,
      "outputs": [
        {
          "output_type": "stream",
          "name": "stdout",
          "text": [
            "0.693\n"
          ]
        }
      ]
    },
    {
      "cell_type": "code",
      "source": [
        "N = 10000       \n",
        "counter = 0   \n",
        "for i in randn(N):  \n",
        "    if (i > -1 and i < 1):     \n",
        "        counter = counter + 1           \n",
        "answer = counter / N                    \n",
        "print(answer)"
      ],
      "metadata": {
        "colab": {
          "base_uri": "https://localhost:8080/"
        },
        "id": "G97k80IjG4AI",
        "outputId": "16f32478-99a1-499a-8312-96294a1e3e3c"
      },
      "execution_count": 8,
      "outputs": [
        {
          "output_type": "stream",
          "name": "stdout",
          "text": [
            "0.6831\n"
          ]
        }
      ]
    },
    {
      "cell_type": "code",
      "source": [
        "N = 1000000       \n",
        "counter = 0   \n",
        "for i in randn(N):  \n",
        "    if (i > -1 and i < 1):     \n",
        "        counter = counter + 1           \n",
        "answer = counter / N                    \n",
        "print(answer)"
      ],
      "metadata": {
        "colab": {
          "base_uri": "https://localhost:8080/"
        },
        "id": "x9c80ahoHMci",
        "outputId": "21e307a3-c4b7-4a65-f6c2-7ab32d15b950"
      },
      "execution_count": 9,
      "outputs": [
        {
          "output_type": "stream",
          "name": "stdout",
          "text": [
            "0.68227\n"
          ]
        }
      ]
    },
    {
      "cell_type": "code",
      "source": [
        "N = 10000000      \n",
        "counter = 0   \n",
        "for i in randn(N):  \n",
        "    if (i > -1 and i < 1):     \n",
        "        counter = counter + 1           \n",
        "answer = counter / N                    \n",
        "print(answer)"
      ],
      "metadata": {
        "colab": {
          "base_uri": "https://localhost:8080/"
        },
        "id": "JcGshKz1HStr",
        "outputId": "48ffb5b7-b32e-4eff-c814-7534eb3410ed"
      },
      "execution_count": 11,
      "outputs": [
        {
          "output_type": "stream",
          "name": "stdout",
          "text": [
            "0.6825762\n"
          ]
        }
      ]
    },
    {
      "cell_type": "code",
      "source": [],
      "metadata": {
        "id": "eDMEKG4zHZf4"
      },
      "execution_count": null,
      "outputs": []
    }
  ]
}