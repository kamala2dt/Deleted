{
  "nbformat": 4,
  "nbformat_minor": 0,
  "metadata": {
    "colab": {
      "provenance": [],
      "authorship_tag": "ABX9TyMkJTuJLhUiqdkxMGEvkkVo",
      "include_colab_link": true
    },
    "kernelspec": {
      "name": "python3",
      "display_name": "Python 3"
    },
    "language_info": {
      "name": "python"
    }
  },
  "cells": [
    {
      "cell_type": "markdown",
      "metadata": {
        "id": "view-in-github",
        "colab_type": "text"
      },
      "source": [
        "<a href=\"https://colab.research.google.com/github/kamala2dt/Deleted/blob/main/Law_of_large_number.ipynb\" target=\"_parent\"><img src=\"https://colab.research.google.com/assets/colab-badge.svg\" alt=\"Open In Colab\"/></a>"
      ]
    },
    {
      "cell_type": "markdown",
      "source": [
        "#Test the Law of Large Numbers for N random normally distributed numbers with mean = 0, stdev = 1:\n",
        "\n",
        "#Create a Python script that will count how many of these numbers will fall between -1 and 1  \n",
        "#and divide by the total quantity of N\n",
        "\n",
        "#You know that E(X) = 68.2%\n",
        "\n",
        "#Check that Mean(Xn) -> E(X) as you rerun your script by increasing N\n"
      ],
      "metadata": {
        "id": "iNxlK7bdTs3A"
      }
    },
    {
      "cell_type": "code",
      "source": [
        "import numpy as np\n",
        "from numpy.random import randn"
      ],
      "metadata": {
        "id": "7-KJmo9dTwz4"
      },
      "execution_count": 13,
      "outputs": []
    },
    {
      "cell_type": "code",
      "source": [
        "N = 100                                # specify sample size\n",
        "counter = 0                            # reset counter\n",
        "for i in randn(N):                     #iterate over random value\n",
        "    if (i > -1 and i < 1):              #check where iterate value falls\n",
        "        counter = counter + 1           # increase counter if condition is met\n",
        "answer = counter / N                    #calculate hit ratio\n",
        "print(answer)\n"
      ],
      "metadata": {
        "colab": {
          "base_uri": "https://localhost:8080/"
        },
        "id": "c7irJXOQT2cB",
        "outputId": "8d81cded-be40-43be-9bf4-98f1c66b63d4"
      },
      "execution_count": 14,
      "outputs": [
        {
          "output_type": "stream",
          "name": "stdout",
          "text": [
            "0.73\n"
          ]
        }
      ]
    },
    {
      "cell_type": "code",
      "source": [
        "N = 1000       # specify sample size\n",
        "counter = 0   # reset counter\n",
        "for i in randn(N):  #iterate over random value\n",
        "    if (i > -1 and i < 1):     #check where iterate value falls\n",
        "        counter = counter + 1           # increase counter if condition is met\n",
        "answer = counter / N                    #calculate hit ratio\n",
        "print(answer)"
      ],
      "metadata": {
        "colab": {
          "base_uri": "https://localhost:8080/"
        },
        "id": "IFzYSCDy93yz",
        "outputId": "eb306e49-6ff0-4db8-d0d5-dad99df3a361"
      },
      "execution_count": 8,
      "outputs": [
        {
          "output_type": "stream",
          "name": "stdout",
          "text": [
            "0.682\n"
          ]
        }
      ]
    },
    {
      "cell_type": "code",
      "source": [
        "N = 1000000       # specify sample size\n",
        "counter = 0   # reset counter\n",
        "for i in randn(N):  #iterate over random value\n",
        "    if (i > -1 and i < 1):     #check where iterate value falls\n",
        "        counter = counter + 1           # increase counter if condition is met\n",
        "answer = counter / N                    #calculate hit ratio\n",
        "print(answer)"
      ],
      "metadata": {
        "colab": {
          "base_uri": "https://localhost:8080/"
        },
        "id": "YL8AgGSARXYu",
        "outputId": "dfcbd855-d150-4da4-c9d6-7ffb75e8f9e9"
      },
      "execution_count": 9,
      "outputs": [
        {
          "output_type": "stream",
          "name": "stdout",
          "text": [
            "0.681995\n"
          ]
        }
      ]
    },
    {
      "cell_type": "code",
      "source": [
        "N = 100       # specify sample size\n",
        "counter = 0   # reset counter\n",
        "for i in randn(N):  #iterate over random value\n",
        "    if (i > -1 and i < 1):     #check where iterate value falls\n",
        "        counter = counter + 1           # increase counter if condition is met\n",
        "answer = counter / N                    #calculate hit ratio\n",
        "print(answer)"
      ],
      "metadata": {
        "colab": {
          "base_uri": "https://localhost:8080/"
        },
        "id": "uri5hw-PRaYX",
        "outputId": "07b55d07-22a0-4b71-bbe0-3055d20ace6d"
      },
      "execution_count": 10,
      "outputs": [
        {
          "output_type": "stream",
          "name": "stdout",
          "text": [
            "0.64\n"
          ]
        }
      ]
    },
    {
      "cell_type": "code",
      "source": [
        "N = 10000       # specify sample size\n",
        "counter = 0   # reset counter\n",
        "for i in randn(N):  #iterate over random value\n",
        "    if (i > -1 and i < 1):     #check where iterate value falls\n",
        "        counter = counter + 1           # increase counter if condition is met\n",
        "answer = counter / N                    #calculate hit ratio\n",
        "print(answer)"
      ],
      "metadata": {
        "colab": {
          "base_uri": "https://localhost:8080/"
        },
        "id": "lix2diCLReR1",
        "outputId": "2f4774a8-ecc0-4438-d1cc-8118a601f428"
      },
      "execution_count": 11,
      "outputs": [
        {
          "output_type": "stream",
          "name": "stdout",
          "text": [
            "0.6854\n"
          ]
        }
      ]
    },
    {
      "cell_type": "code",
      "source": [
        "N = 10000000       # specify sample size\n",
        "counter = 0   # reset counter\n",
        "for i in randn(N):  #iterate over random value\n",
        "    if (i > -1 and i < 1):     #check where iterate value falls\n",
        "        counter = counter + 1           # increase counter if condition is met\n",
        "answer = counter / N                    #calculate hit ratio\n",
        "print(answer)"
      ],
      "metadata": {
        "colab": {
          "base_uri": "https://localhost:8080/"
        },
        "id": "jH-EERpLRiHd",
        "outputId": "a53f55cb-7e5a-4fde-b54a-8cd9dd4fa58a"
      },
      "execution_count": 12,
      "outputs": [
        {
          "output_type": "stream",
          "name": "stdout",
          "text": [
            "0.6827514\n"
          ]
        }
      ]
    },
    {
      "cell_type": "code",
      "source": [
        "N = 10000      # specify sample size\n",
        "counter = 0   # reset counter\n",
        "for i in randn(N):  #iterate over random value\n",
        "    if (i > -1 and i < 1):     #check where iterate value falls\n",
        "        counter = counter + 1           # increase counter if condition is met\n",
        "answer = counter / N                    #calculate hit ratio\n",
        "print(answer)\n"
      ],
      "metadata": {
        "colab": {
          "base_uri": "https://localhost:8080/"
        },
        "id": "lI8cYKaYRk3N",
        "outputId": "2cc5a2fe-d946-4fc5-b06b-c7ea10411ecd"
      },
      "execution_count": 16,
      "outputs": [
        {
          "output_type": "stream",
          "name": "stdout",
          "text": [
            "0.6848\n"
          ]
        }
      ]
    },
    {
      "cell_type": "code",
      "source": [
        "N = 1000000       # specify sample size\n",
        "counter = 0   # reset counter\n",
        "for i in randn(N):  #iterate over random value\n",
        "    if (i > -1 and i < 1):     #check where iterate value falls\n",
        "        counter = counter + 1           # increase counter if condition is met\n",
        "answer = counter / N                    #calculate hit ratio\n",
        "print(answer)\n"
      ],
      "metadata": {
        "colab": {
          "base_uri": "https://localhost:8080/"
        },
        "id": "k45RAMNzUFgr",
        "outputId": "980cc1b9-fe94-4d61-bc0b-3debfc33e5a9"
      },
      "execution_count": 17,
      "outputs": [
        {
          "output_type": "stream",
          "name": "stdout",
          "text": [
            "0.683279\n"
          ]
        }
      ]
    },
    {
      "cell_type": "code",
      "source": [],
      "metadata": {
        "id": "_JYyCM6PUUME"
      },
      "execution_count": null,
      "outputs": []
    }
  ]
}